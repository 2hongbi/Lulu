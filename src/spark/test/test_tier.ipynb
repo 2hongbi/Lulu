{
 "cells": [
  {
   "cell_type": "code",
   "execution_count": 4,
   "metadata": {
    "collapsed": true
   },
   "outputs": [],
   "source": [
    "from pyspark.sql import SparkSession"
   ]
  },
  {
   "cell_type": "code",
   "execution_count": 5,
   "outputs": [
    {
     "name": "stderr",
     "output_type": "stream",
     "text": [
      "23/08/24 17:07:56 WARN Utils: Your hostname, isoyeon-ui-MacBookPro.local resolves to a loopback address: 127.0.0.1; using 192.168.35.75 instead (on interface en0)\n",
      "23/08/24 17:07:56 WARN Utils: Set SPARK_LOCAL_IP if you need to bind to another address\n",
      "Setting default log level to \"WARN\".\n",
      "To adjust logging level use sc.setLogLevel(newLevel). For SparkR, use setLogLevel(newLevel).\n",
      "23/08/24 17:07:56 WARN NativeCodeLoader: Unable to load native-hadoop library for your platform... using builtin-java classes where applicable\n"
     ]
    }
   ],
   "source": [
    "spark = SparkSession.builder \\\n",
    "    .appName(\"Tier Analysis\") \\\n",
    "    .getOrCreate()"
   ],
   "metadata": {
    "collapsed": false
   }
  },
  {
   "cell_type": "code",
   "execution_count": 6,
   "outputs": [
    {
     "name": "stderr",
     "output_type": "stream",
     "text": [
      "                                                                                \r"
     ]
    }
   ],
   "source": [
    "data_spark = spark.read.csv('./../data1.csv', header=True, inferSchema=True)"
   ],
   "metadata": {
    "collapsed": false
   }
  },
  {
   "cell_type": "code",
   "execution_count": 7,
   "outputs": [],
   "source": [
    "data_spark.createOrReplaceTempView(\"games\")"
   ],
   "metadata": {
    "collapsed": false
   }
  },
  {
   "cell_type": "code",
   "execution_count": 9,
   "outputs": [
    {
     "data": {
      "text/plain": "DataFrame[tier: string, match_id: string, team_id: int, position: string, kills: int, deaths: int, assists: int, win: boolean, champion_name: string, champion_id: int, patch: double]"
     },
     "execution_count": 9,
     "metadata": {},
     "output_type": "execute_result"
    }
   ],
   "source": [
    "data_spark"
   ],
   "metadata": {
    "collapsed": false
   }
  },
  {
   "cell_type": "markdown",
   "source": [
    "tier,match_id,team_id,position,kills,deaths,assists,win,champion_name,champion_id,patch"
   ],
   "metadata": {
    "collapsed": false
   }
  },
  {
   "cell_type": "code",
   "execution_count": 10,
   "outputs": [
    {
     "name": "stderr",
     "output_type": "stream",
     "text": [
      "[Stage 2:>                                                          (0 + 4) / 4]\r"
     ]
    },
    {
     "name": "stdout",
     "output_type": "stream",
     "text": [
      "+-----------+-----------+----+--------+\n",
      "|       tier|total_games|wins|win_rate|\n",
      "+-----------+-----------+----+--------+\n",
      "|   DIAMONDI|       9070|4535|    50.0|\n",
      "|   BRONZEIV|       8900|4450|    50.0|\n",
      "|    BRONZEI|       8000|4000|    50.0|\n",
      "|GRANDMASTER|       8720|4360|    50.0|\n",
      "|  EMERALDIV|       9120|4560|    50.0|\n",
      "|  BRONZEIII|       7360|3680|    50.0|\n",
      "|PLATINUMIII|       8670|4335|    50.0|\n",
      "|     IRONIV|       8530|4265|    50.0|\n",
      "|  EMERALDII|       8310|4155|    50.0|\n",
      "|    GOLDIII|       8440|4220|    50.0|\n",
      "|  DIAMONDII|       8700|4350|    50.0|\n",
      "|   EMERALDI|       9770|4885|    50.0|\n",
      "|     MASTER|       9490|4745|    50.0|\n",
      "|      IRONI|       7580|3790|    50.0|\n",
      "|  PLATINUMI|       8950|4475|    50.0|\n",
      "|   BRONZEII|       9220|4610|    50.0|\n",
      "| PLATINUMII|       8530|4265|    50.0|\n",
      "|     GOLDIV|       8520|4260|    50.0|\n",
      "| EMERALDIII|       8560|4280|    50.0|\n",
      "| CHALLENGER|       8930|4465|    50.0|\n",
      "+-----------+-----------+----+--------+\n",
      "only showing top 20 rows\n",
      "\n"
     ]
    },
    {
     "name": "stderr",
     "output_type": "stream",
     "text": [
      "                                                                                \r"
     ]
    }
   ],
   "source": [
    "win_rate_query = \"\"\"\n",
    "SELECT tier, COUNT(*) AS total_games, SUM(CASE WHEN win = 'yes' THEN 1 ELSE 0 END) AS wins, (SUM(CASE WHEN win = 'yes' THEN 1 ELSE 0 END) / COUNT(*)) * 100 AS win_rate\n",
    "FROM games\n",
    "GROUP BY tier\n",
    "\"\"\"\n",
    "\n",
    "win_rate_result = spark.sql(win_rate_query)\n",
    "win_rate_result.show()"
   ],
   "metadata": {
    "collapsed": false
   }
  },
  {
   "cell_type": "markdown",
   "source": [
    "- 밴률을 어떻게 찾지 , 라인별로"
   ],
   "metadata": {
    "collapsed": false
   }
  },
  {
   "cell_type": "code",
   "execution_count": 11,
   "outputs": [
    {
     "name": "stderr",
     "output_type": "stream",
     "text": [
      "                                                                                \r"
     ]
    },
    {
     "name": "stdout",
     "output_type": "stream",
     "text": [
      "+-----------+-------------+-----------+----+--------------------+------------------+\n",
      "|       tier|champion_name|total_games|wins|           pick_rate|          win_rate|\n",
      "+-----------+-------------+-----------+----+--------------------+------------------+\n",
      "|   BRONZEII|         Fizz|         34|  12|0.012769953051643192|35.294117647058826|\n",
      "|     IRONII|        Kaisa|        239| 113| 0.08976525821596244| 47.28033472803347|\n",
      "|PLATINUMIII|        Swain|         71|  35| 0.02666666666666667| 49.29577464788733|\n",
      "|     IRONII|       Ezreal|        251| 117| 0.09427230046948357|46.613545816733065|\n",
      "|  EMERALDII|       Akshan|         28|  12|0.010516431924882629|42.857142857142854|\n",
      "|  SILVERIII|       Aatrox|        112|  51|0.042065727699530514|45.535714285714285|\n",
      "|PLATINUMIII|         Sion|         33|  20|0.012394366197183098| 60.60606060606061|\n",
      "|  DIAMONDIV|         Fizz|         22|   9|0.008262910798122065|40.909090909090914|\n",
      "| PLATINUMIV|         Sona|         10|   6|0.003755868544600939|              60.0|\n",
      "| CHALLENGER|     Volibear|         12|   4|0.004507042253521127| 33.33333333333333|\n",
      "|  BRONZEIII|        Teemo|         65|  34|0.024413145539906103|52.307692307692314|\n",
      "|   SILVERII|       Soraka|         32|  20|0.012018779342723005|              62.5|\n",
      "|     IRONII|        Brand|         35|  20|0.013145539906103286| 57.14285714285714|\n",
      "|GRANDMASTER|       KogMaw|          1|   0|3.755868544600939E-4|               0.0|\n",
      "| PLATINUMII|   MonkeyKing|         18|   7| 0.00676056338028169| 38.88888888888889|\n",
      "|  BRONZEIII|        Taric|          7|   3|0.002629107981220657|42.857142857142854|\n",
      "|    SILVERI|        Garen|         48|  30|0.018028169014084508|              62.5|\n",
      "|   BRONZEIV|     MasterYi|        102|  51| 0.03830985915492958|              50.0|\n",
      "| PLATINUMII|       Lucian|         56|  31|0.021032863849765257| 55.35714285714286|\n",
      "|   EMERALDI|        Sivir|        110|  57| 0.04131455399061033| 51.81818181818182|\n",
      "+-----------+-------------+-----------+----+--------------------+------------------+\n",
      "only showing top 20 rows\n",
      "\n"
     ]
    }
   ],
   "source": [
    "from pyspark.sql.functions import col\n",
    "\n",
    "# 픽률 및 승률 계산\n",
    "query = \"\"\"\n",
    "SELECT\n",
    "    tier,\n",
    "    champion_name,\n",
    "    COUNT(*) AS total_games,\n",
    "    SUM(CASE WHEN win = 'yes' THEN 1 ELSE 0 END) AS wins,\n",
    "    (COUNT(*) / (SELECT COUNT(*) FROM games)) * 100 AS pick_rate,\n",
    "    (SUM(CASE WHEN win = 'yes' THEN 1 ELSE 0 END) / COUNT(*)) * 100 AS win_rate\n",
    "FROM games\n",
    "GROUP BY tier, champion_name\n",
    "\"\"\"\n",
    "\n",
    "result = spark.sql(query)\n",
    "\n",
    "# 결과 출력\n",
    "result.show()"
   ],
   "metadata": {
    "collapsed": false
   }
  },
  {
   "cell_type": "code",
   "execution_count": null,
   "outputs": [],
   "source": [],
   "metadata": {
    "collapsed": false
   }
  }
 ],
 "metadata": {
  "kernelspec": {
   "display_name": "Python 3",
   "language": "python",
   "name": "python3"
  },
  "language_info": {
   "codemirror_mode": {
    "name": "ipython",
    "version": 2
   },
   "file_extension": ".py",
   "mimetype": "text/x-python",
   "name": "python",
   "nbconvert_exporter": "python",
   "pygments_lexer": "ipython2",
   "version": "2.7.6"
  }
 },
 "nbformat": 4,
 "nbformat_minor": 0
}
